{
 "cells": [
  {
   "cell_type": "code",
   "execution_count": 1,
   "id": "72d50289-6d32-4ddd-a4a0-a790d49e4f83",
   "metadata": {},
   "outputs": [],
   "source": [
    "import pandas as pd\n",
    "import numpy as np\n",
    "import matplotlib.pyplot as plt\n",
    "import seaborn as sns"
   ]
  },
  {
   "cell_type": "markdown",
   "id": "9b74cae8-9e3a-41d8-ada8-fbe6d5916c6e",
   "metadata": {},
   "source": [
    "## Open the Datasets"
   ]
  },
  {
   "cell_type": "code",
   "execution_count": 2,
   "id": "4a248d31-6dbf-448a-b9c1-fa49dacdfead",
   "metadata": {},
   "outputs": [],
   "source": [
    "training = pd.read_csv(\"train.csv\")\n",
    "test = pd.read_csv(\"test.csv\")"
   ]
  },
  {
   "cell_type": "markdown",
   "id": "f61b3a35-2e6d-4b4f-b8df-74a644981e97",
   "metadata": {},
   "source": [
    "# Explore the variables"
   ]
  },
  {
   "cell_type": "code",
   "execution_count": 3,
   "id": "5241c2fb-e93d-49b8-b9a1-639110e2afad",
   "metadata": {},
   "outputs": [
    {
     "name": "stdout",
     "output_type": "stream",
     "text": [
      "Index(['PassengerId', 'Survived', 'Pclass', 'Name', 'Sex', 'Age', 'SibSp',\n",
      "       'Parch', 'Ticket', 'Fare', 'Cabin', 'Embarked'],\n",
      "      dtype='object')\n"
     ]
    }
   ],
   "source": [
    "print(training.columns)"
   ]
  },
  {
   "cell_type": "markdown",
   "id": "58a03dcc-a154-4d17-8ab0-21994144669d",
   "metadata": {},
   "source": [
    "# Pandas method for getting an overview of your data"
   ]
  },
  {
   "cell_type": "code",
   "execution_count": 4,
   "id": "111f9bc6-90b9-4985-9a56-24499e657adb",
   "metadata": {},
   "outputs": [
    {
     "name": "stdout",
     "output_type": "stream",
     "text": [
      "       PassengerId    Survived      Pclass         Age       SibSp  \\\n",
      "count   891.000000  891.000000  891.000000  714.000000  891.000000   \n",
      "mean    446.000000    0.383838    2.308642   29.699118    0.523008   \n",
      "std     257.353842    0.486592    0.836071   14.526497    1.102743   \n",
      "min       1.000000    0.000000    1.000000    0.420000    0.000000   \n",
      "25%     223.500000    0.000000    2.000000   20.125000    0.000000   \n",
      "50%     446.000000    0.000000    3.000000   28.000000    0.000000   \n",
      "75%     668.500000    1.000000    3.000000   38.000000    1.000000   \n",
      "max     891.000000    1.000000    3.000000   80.000000    8.000000   \n",
      "\n",
      "            Parch        Fare  \n",
      "count  891.000000  891.000000  \n",
      "mean     0.381594   32.204208  \n",
      "std      0.806057   49.693429  \n",
      "min      0.000000    0.000000  \n",
      "25%      0.000000    7.910400  \n",
      "50%      0.000000   14.454200  \n",
      "75%      0.000000   31.000000  \n",
      "max      6.000000  512.329200  \n"
     ]
    }
   ],
   "source": [
    "print(training.describe())"
   ]
  },
  {
   "cell_type": "markdown",
   "id": "26f5cd39-4bd5-49af-a396-7ff647e3109b",
   "metadata": {},
   "source": [
    "# Using pivot tables to explore correlations between our independent variables and survival probablity"
   ]
  },
  {
   "cell_type": "code",
   "execution_count": 5,
   "id": "397d99d9-6fa8-4aee-9a7e-e241aa41918b",
   "metadata": {},
   "outputs": [],
   "source": [
    "by_class = training[['Pclass', 'Survived']].groupby(['Pclass'], as_index=False).mean().sort_values(by='Survived', ascending=False)"
   ]
  },
  {
   "cell_type": "code",
   "execution_count": 6,
   "id": "5816da40-bf8f-4990-9dfc-59d200d27c2d",
   "metadata": {},
   "outputs": [
    {
     "name": "stdout",
     "output_type": "stream",
     "text": [
      "   Pclass  Survived\n",
      "0       1  0.629630\n",
      "1       2  0.472826\n",
      "2       3  0.242363\n"
     ]
    }
   ],
   "source": [
    "print(by_class)"
   ]
  },
  {
   "cell_type": "code",
   "execution_count": 15,
   "id": "7f373cb3-a743-49e1-8567-242fd9b22343",
   "metadata": {},
   "outputs": [],
   "source": [
    "by_sex = training[['Sex', 'Survived']].groupby(['Sex'], as_index=False).mean().sort_values(by='Survived', ascending=False)"
   ]
  },
  {
   "cell_type": "code",
   "execution_count": 16,
   "id": "aea9c60e-4de0-4675-8572-fec79f4cb1bf",
   "metadata": {},
   "outputs": [
    {
     "name": "stdout",
     "output_type": "stream",
     "text": [
      "      Sex  Survived\n",
      "0  female  0.742038\n",
      "1    male  0.188908\n"
     ]
    }
   ],
   "source": [
    "print(by_sex)"
   ]
  },
  {
   "cell_type": "code",
   "execution_count": 19,
   "id": "b95cde87-e699-455f-a773-abb488e6ac55",
   "metadata": {},
   "outputs": [],
   "source": [
    "by_age = training[['Age', 'Survived']].groupby(['Age'], as_index=False).mean().sort_values(by='Survived', ascending=False)"
   ]
  },
  {
   "cell_type": "code",
   "execution_count": 20,
   "id": "0f2fb400-a266-4f1f-bc30-638a8bae605e",
   "metadata": {},
   "outputs": [
    {
     "name": "stdout",
     "output_type": "stream",
     "text": [
      "      Age  Survived\n",
      "0    0.42       1.0\n",
      "9    5.00       1.0\n",
      "79  63.00       1.0\n",
      "68  53.00       1.0\n",
      "1    0.67       1.0\n",
      "..    ...       ...\n",
      "37  28.50       0.0\n",
      "49  36.50       0.0\n",
      "46  34.50       0.0\n",
      "26  20.50       0.0\n",
      "30  23.50       0.0\n",
      "\n",
      "[88 rows x 2 columns]\n"
     ]
    }
   ],
   "source": [
    "print(by_age)"
   ]
  },
  {
   "cell_type": "markdown",
   "id": "cda0d342-46a9-42a8-8ad2-d0d56fa452c0",
   "metadata": {},
   "source": [
    "# Exploring the visualisation - age"
   ]
  },
  {
   "cell_type": "code",
   "execution_count": 21,
   "id": "6781a8f9-5d15-4130-ae76-dfafcbe5757b",
   "metadata": {},
   "outputs": [
    {
     "data": {
      "image/png": "[encoded data removed]",
      "text/plain": [
       "<Figure size 600x300 with 2 Axes>"
      ]
     },
     "metadata": {},
     "output_type": "display_data"
    }
   ],
   "source": [
    "g = sns.FacetGrid(training, col='Survived')\n",
    "g.map(plt.hist, 'Pclass', bins=40)\n",
    "plt.show()"
   ]
  },
  {
   "cell_type": "markdown",
   "id": "1630982d-6224-413c-8133-d420c397b065",
   "metadata": {},
   "source": [
    "# Keep only the features you think are important in the prediction"
   ]
  },
  {
   "cell_type": "code",
   "execution_count": 22,
   "id": "cf242654-4419-48cd-b8c9-92ba548694a4",
   "metadata": {},
   "outputs": [],
   "source": [
    "features =['Pclass', 'Sex', 'Age', 'SibSp', 'Parch', 'Fare', 'Embarked']\n",
    "X = training[features]\n",
    "Y = training['Survived']"
   ]
  },
  {
   "cell_type": "code",
   "execution_count": 23,
   "id": "896ceb64-c97e-413f-b97b-11bd064eb284",
   "metadata": {},
   "outputs": [
    {
     "name": "stdout",
     "output_type": "stream",
     "text": [
      "     Pclass     Sex   Age  SibSp  Parch     Fare Embarked\n",
      "0         3    male  22.0      1      0   7.2500        S\n",
      "1         1  female  38.0      1      0  71.2833        C\n",
      "2         3  female  26.0      0      0   7.9250        S\n",
      "3         1  female  35.0      1      0  53.1000        S\n",
      "4         3    male  35.0      0      0   8.0500        S\n",
      "..      ...     ...   ...    ...    ...      ...      ...\n",
      "886       2    male  27.0      0      0  13.0000        S\n",
      "887       1  female  19.0      0      0  30.0000        S\n",
      "888       3  female   NaN      1      2  23.4500        S\n",
      "889       1    male  26.0      0      0  30.0000        C\n",
      "890       3    male  32.0      0      0   7.7500        Q\n",
      "\n",
      "[891 rows x 7 columns]\n"
     ]
    }
   ],
   "source": [
    "print(X)"
   ]
  }
 ],
 "metadata": {
  "kernelspec": {
   "display_name": "Python 3 (ipykernel)",
   "language": "python",
   "name": "python3"
  },
  "language_info": {
   "codemirror_mode": {
    "name": "ipython",
    "version": 3
   },
   "file_extension": ".py",
   "mimetype": "text/x-python",
   "name": "python",
   "nbconvert_exporter": "python",
   "pygments_lexer": "ipython3",
   "version": "3.12.2"
  }
 },
 "nbformat": 4,
 "nbformat_minor": 5
}
